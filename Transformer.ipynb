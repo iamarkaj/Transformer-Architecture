{
 "cells": [
  {
   "cell_type": "code",
   "execution_count": 1,
   "metadata": {},
   "outputs": [],
   "source": [
    "import warnings\n",
    "warnings.filterwarnings(action='ignore',category=FutureWarning)"
   ]
  },
  {
   "cell_type": "code",
   "execution_count": 2,
   "metadata": {},
   "outputs": [],
   "source": [
    "import os\n",
    "import numpy as np\n",
    "import pandas as pd\n",
    "import tensorflow as tf\n",
    "from tensorflow.keras.models import Sequential\n",
    "from tensorflow.keras.layers import Dense,Concatenate,Embedding,LayerNormalization,Dropout\n",
    "from keras.preprocessing.sequence import pad_sequences\n",
    "from keras.preprocessing.text import Tokenizer\n",
    "tf.keras.backend.set_floatx('float32')\n",
    "\n",
    "import matplotlib.pyplot as plt\n",
    "import matplotlib.ticker as ticker\n",
    "%matplotlib inline"
   ]
  },
  {
   "cell_type": "markdown",
   "metadata": {},
   "source": [
    "# <font color=red>TRAINING</font>"
   ]
  },
  {
   "cell_type": "code",
   "execution_count": 38,
   "metadata": {},
   "outputs": [],
   "source": [
    "DATA_PATH='E:/Jupyter files/ROUGH/data.csv'\n",
    "CHECKPOINT_PATH = 'E:/Jupyter files/ROUGH/check_temp'\n",
    "os.mkdir(CHECKPOINT_PATH)\n",
    "\n",
    "SAMPLES=30000\n",
    "MAX_WORDS=20\n",
    "VOCAB=10000\n",
    "BATCH_SIZE=64"
   ]
  },
  {
   "cell_type": "markdown",
   "metadata": {},
   "source": [
    "## Load training data"
   ]
  },
  {
   "cell_type": "code",
   "execution_count": 5,
   "metadata": {},
   "outputs": [
    {
     "data": {
      "text/html": [
       "<div>\n",
       "<style scoped>\n",
       "    .dataframe tbody tr th:only-of-type {\n",
       "        vertical-align: middle;\n",
       "    }\n",
       "\n",
       "    .dataframe tbody tr th {\n",
       "        vertical-align: top;\n",
       "    }\n",
       "\n",
       "    .dataframe thead th {\n",
       "        text-align: right;\n",
       "    }\n",
       "</style>\n",
       "<table border=\"1\" class=\"dataframe\">\n",
       "  <thead>\n",
       "    <tr style=\"text-align: right;\">\n",
       "      <th></th>\n",
       "      <th>english_sentence</th>\n",
       "      <th>hindi_sentence</th>\n",
       "    </tr>\n",
       "  </thead>\n",
       "  <tbody>\n",
       "    <tr>\n",
       "      <th>0</th>\n",
       "      <td>politicians do not have permission to do what ...</td>\n",
       "      <td>राजनीतिज्ञों के पास जो कार्य करना चाहिए, वह कर...</td>\n",
       "    </tr>\n",
       "    <tr>\n",
       "      <th>1</th>\n",
       "      <td>I'd like to tell you about one such child,</td>\n",
       "      <td>मई आपको ऐसे ही एक बच्चे के बारे में बताना चाहू...</td>\n",
       "    </tr>\n",
       "    <tr>\n",
       "      <th>2</th>\n",
       "      <td>This percentage is even greater than the perce...</td>\n",
       "      <td>यह प्रतिशत भारत में हिन्दुओं प्रतिशत से अधिक है।</td>\n",
       "    </tr>\n",
       "    <tr>\n",
       "      <th>3</th>\n",
       "      <td>what we really mean is that they're bad at not...</td>\n",
       "      <td>हम ये नहीं कहना चाहते कि वो ध्यान नहीं दे पाते</td>\n",
       "    </tr>\n",
       "    <tr>\n",
       "      <th>4</th>\n",
       "      <td>.The ending portion of these Vedas is called U...</td>\n",
       "      <td>इन्हीं वेदों का अंतिम भाग उपनिषद कहलाता है।</td>\n",
       "    </tr>\n",
       "  </tbody>\n",
       "</table>\n",
       "</div>"
      ],
      "text/plain": [
       "                                    english_sentence  \\\n",
       "0  politicians do not have permission to do what ...   \n",
       "1         I'd like to tell you about one such child,   \n",
       "2  This percentage is even greater than the perce...   \n",
       "3  what we really mean is that they're bad at not...   \n",
       "4  .The ending portion of these Vedas is called U...   \n",
       "\n",
       "                                      hindi_sentence  \n",
       "0  राजनीतिज्ञों के पास जो कार्य करना चाहिए, वह कर...  \n",
       "1  मई आपको ऐसे ही एक बच्चे के बारे में बताना चाहू...  \n",
       "2   यह प्रतिशत भारत में हिन्दुओं प्रतिशत से अधिक है।  \n",
       "3     हम ये नहीं कहना चाहते कि वो ध्यान नहीं दे पाते  \n",
       "4        इन्हीं वेदों का अंतिम भाग उपनिषद कहलाता है।  "
      ]
     },
     "execution_count": 5,
     "metadata": {},
     "output_type": "execute_result"
    }
   ],
   "source": [
    "train=pd.read_csv(DATA_PATH)\n",
    "train=train.drop(\"source\",axis=1)\n",
    "train.head()"
   ]
  },
  {
   "cell_type": "code",
   "execution_count": 6,
   "metadata": {},
   "outputs": [
    {
     "name": "stdout",
     "output_type": "stream",
     "text": [
      "Total samples:  127607\n"
     ]
    }
   ],
   "source": [
    "print(\"Total samples: \", len(train))"
   ]
  },
  {
   "cell_type": "markdown",
   "metadata": {},
   "source": [
    "## Randomly sample training data"
   ]
  },
  {
   "cell_type": "code",
   "execution_count": 7,
   "metadata": {},
   "outputs": [],
   "source": [
    "train=train.sample(SAMPLES)"
   ]
  },
  {
   "cell_type": "markdown",
   "metadata": {},
   "source": [
    "## Add <start\\> and <end\\> token"
   ]
  },
  {
   "cell_type": "code",
   "execution_count": 8,
   "metadata": {},
   "outputs": [
    {
     "data": {
      "text/html": [
       "<div>\n",
       "<style scoped>\n",
       "    .dataframe tbody tr th:only-of-type {\n",
       "        vertical-align: middle;\n",
       "    }\n",
       "\n",
       "    .dataframe tbody tr th {\n",
       "        vertical-align: top;\n",
       "    }\n",
       "\n",
       "    .dataframe thead th {\n",
       "        text-align: right;\n",
       "    }\n",
       "</style>\n",
       "<table border=\"1\" class=\"dataframe\">\n",
       "  <thead>\n",
       "    <tr style=\"text-align: right;\">\n",
       "      <th></th>\n",
       "      <th>english_sentence</th>\n",
       "      <th>hindi_sentence</th>\n",
       "    </tr>\n",
       "  </thead>\n",
       "  <tbody>\n",
       "    <tr>\n",
       "      <th>36940</th>\n",
       "      <td>&lt;START&gt; you'll find about half of that money, ...</td>\n",
       "      <td>&lt;START&gt; आप को इससे लगभग आधे का आंकड़ा मिलेगा, ...</td>\n",
       "    </tr>\n",
       "    <tr>\n",
       "      <th>78912</th>\n",
       "      <td>&lt;START&gt; surrounded by 150 family and friends. ...</td>\n",
       "      <td>&lt;START&gt; जिसमें 150 परिजनों और मित्रों ने शिरकत...</td>\n",
       "    </tr>\n",
       "    <tr>\n",
       "      <th>93613</th>\n",
       "      <td>&lt;START&gt; Hereon they have based their compulati...</td>\n",
       "      <td>&lt;START&gt; इसी को उन्होंने अपनी गणना-विधियों का ख...</td>\n",
       "    </tr>\n",
       "    <tr>\n",
       "      <th>54055</th>\n",
       "      <td>&lt;START&gt; Another small water body, called the [...</td>\n",
       "      <td>&lt;START&gt; एक और छोटी पानी की होद, जिसे जसेरी कहत...</td>\n",
       "    </tr>\n",
       "    <tr>\n",
       "      <th>91744</th>\n",
       "      <td>&lt;START&gt; because we are in need of guidance, &lt;END&gt;</td>\n",
       "      <td>&lt;START&gt; क्यों कि हमें मार्गदर्शन, &lt;END&gt;</td>\n",
       "    </tr>\n",
       "  </tbody>\n",
       "</table>\n",
       "</div>"
      ],
      "text/plain": [
       "                                        english_sentence  \\\n",
       "36940  <START> you'll find about half of that money, ...   \n",
       "78912  <START> surrounded by 150 family and friends. ...   \n",
       "93613  <START> Hereon they have based their compulati...   \n",
       "54055  <START> Another small water body, called the [...   \n",
       "91744  <START> because we are in need of guidance, <END>   \n",
       "\n",
       "                                          hindi_sentence  \n",
       "36940  <START> आप को इससे लगभग आधे का आंकड़ा मिलेगा, ...  \n",
       "78912  <START> जिसमें 150 परिजनों और मित्रों ने शिरकत...  \n",
       "93613  <START> इसी को उन्होंने अपनी गणना-विधियों का ख...  \n",
       "54055  <START> एक और छोटी पानी की होद, जिसे जसेरी कहत...  \n",
       "91744            <START> क्यों कि हमें मार्गदर्शन, <END>  "
      ]
     },
     "execution_count": 8,
     "metadata": {},
     "output_type": "execute_result"
    }
   ],
   "source": [
    "train['english_sentence'] = train['english_sentence'].apply(lambda x: '<start> '+str(x)+' <end>')\n",
    "train['hindi_sentence'] = train['hindi_sentence'].apply(lambda x: '<start> '+str(x)+' <end>')\n",
    "train.head()"
   ]
  },
  {
   "cell_type": "markdown",
   "metadata": {},
   "source": [
    "## Tokenize and pad english sentence"
   ]
  },
  {
   "cell_type": "code",
   "execution_count": 9,
   "metadata": {},
   "outputs": [],
   "source": [
    "tokenizerE = Tokenizer(num_words=VOCAB, \n",
    "                       oov_token='<OOV>', \n",
    "                       lower=True, \n",
    "                       filters='#$!\"%&()*+,-./:;=?@[\\\\]^_`{|}~\\t\\n')\n",
    "\n",
    "tokenizerE.fit_on_texts(train['english_sentence'])\n",
    "\n",
    "eng_inp = tokenizerE.texts_to_sequences(train['english_sentence'])\n",
    "\n",
    "eng_inp = pad_sequences(eng_inp,\n",
    "                        maxlen=MAX_WORDS,\n",
    "                        truncating='post',\n",
    "                        padding='post',\n",
    "                        dtype='int64')"
   ]
  },
  {
   "cell_type": "markdown",
   "metadata": {},
   "source": [
    "## Tokenize and pad hindi sentence"
   ]
  },
  {
   "cell_type": "code",
   "execution_count": 10,
   "metadata": {},
   "outputs": [],
   "source": [
    "tokenizerH = Tokenizer(num_words=VOCAB,\n",
    "                       oov_token='<OOV>',\n",
    "                       lower=True,\n",
    "                       filters='!\"#$%&()*+,-./:;=?@[\\\\]^_`{|}~\\t\\n')\n",
    "\n",
    "tokenizerH.fit_on_texts(train['hindi_sentence'])\n",
    "\n",
    "hin_inp=tokenizerH.texts_to_sequences(train['hindi_sentence'])\n",
    "\n",
    "hin_inp=pad_sequences(hin_inp,\n",
    "                      maxlen=MAX_WORDS,\n",
    "                      truncating='post',\n",
    "                      padding='post',\n",
    "                      dtype='int64')"
   ]
  },
  {
   "cell_type": "markdown",
   "metadata": {},
   "source": [
    "## Creating reverse hindi dictionary"
   ]
  },
  {
   "cell_type": "code",
   "execution_count": 11,
   "metadata": {},
   "outputs": [],
   "source": [
    "rev_hin_dict = dict(map(reversed, tokenizerH.word_index.items()))"
   ]
  },
  {
   "cell_type": "markdown",
   "metadata": {},
   "source": [
    "## Creating dataset"
   ]
  },
  {
   "cell_type": "code",
   "execution_count": 12,
   "metadata": {},
   "outputs": [],
   "source": [
    "dataset = tf.data.Dataset.from_tensor_slices((eng_inp,hin_inp)).shuffle(SAMPLES).batch(BATCH_SIZE,drop_remainder=True)"
   ]
  },
  {
   "cell_type": "markdown",
   "metadata": {},
   "source": [
    "## Creating the model"
   ]
  },
  {
   "cell_type": "code",
   "execution_count": 13,
   "metadata": {},
   "outputs": [],
   "source": [
    "def pos_enc(posi,dim):\n",
    "    mat=1 / 10000 ** ( 2*(np.expand_dims(np.arange(0,dim),1)//2) / np.float32(dim) )    \n",
    "    pos=np.expand_dims(np.arange(0,posi),1)   \n",
    "    mat=np.reshape(mat,(1,dim))   \n",
    "    mul=pos*mat\n",
    "    mul[:, 0::2]=np.sin(mul[:, 0::2])\n",
    "    mul[:, 1::2]=np.cos(mul[:, 1::2])\n",
    "    mul=np.reshape(mul,(1,posi,dim))  \n",
    "    return tf.cast(mul,dtype=tf.float32)"
   ]
  },
  {
   "cell_type": "code",
   "execution_count": 14,
   "metadata": {},
   "outputs": [
    {
     "data": {
      "image/png": "[encoded data removed]",
      "text/plain": [
       "<Figure size 432x288 with 2 Axes>"
      ]
     },
     "metadata": {
      "needs_background": "light"
     },
     "output_type": "display_data"
    }
   ],
   "source": [
    "mul=pos_enc(40,512)\n",
    "\n",
    "plt.pcolormesh(mul[0],cmap='RdBu')\n",
    "plt.colorbar()\n",
    "plt.show()"
   ]
  },
  {
   "cell_type": "code",
   "execution_count": 15,
   "metadata": {},
   "outputs": [],
   "source": [
    "def padding_mask(ans):\n",
    "    ans=tf.cast(tf.math.equal(ans,0),tf.float32)\n",
    "    ans=ans[:,tf.newaxis,tf.newaxis,:]\n",
    "    return ans"
   ]
  },
  {
   "cell_type": "code",
   "execution_count": 16,
   "metadata": {},
   "outputs": [],
   "source": [
    "def look_ahead(size):\n",
    "    mask = 1 - tf.linalg.band_part(tf.ones((size, size)), -1, 0)\n",
    "    return mask"
   ]
  },
  {
   "cell_type": "code",
   "execution_count": 17,
   "metadata": {},
   "outputs": [],
   "source": [
    "def attention(q,k,v,mask):\n",
    "    matmul1=tf.matmul(q,k,transpose_b=True)\n",
    "    scale = matmul1 / tf.math.sqrt( tf.cast(tf.shape(k)[-1],dtype=tf.float32))\n",
    "    if mask is not None:\n",
    "        scale+=mask*(-1e9)\n",
    "    attn_wt = tf.nn.softmax(scale,axis=-1)\n",
    "    matmul2 = tf.matmul(attn_wt,v)\n",
    "    return matmul2,attn_wt"
   ]
  },
  {
   "cell_type": "code",
   "execution_count": 18,
   "metadata": {},
   "outputs": [],
   "source": [
    "class multi_head_attention(tf.keras.layers.Layer):\n",
    "    def __init__(self,num_heads,d):       \n",
    "        super(multi_head_attention,self).__init__()       \n",
    "        self.d=d\n",
    "        self.num_heads=num_heads\n",
    "        assert d%self.num_heads == 0\n",
    "        self.depth=d//self.num_heads       \n",
    "        self.denseQ=Dense(self.d)\n",
    "        self.denseK=Dense(self.d)\n",
    "        self.denseV=Dense(self.d)\n",
    "        self.denseOUT=Dense(self.d)\n",
    "    \n",
    "    def split_heads(self,x,batch):        \n",
    "        x=tf.reshape(x, (batch, -1, self.num_heads, self.depth))\n",
    "        return tf.transpose(x,perm=[0,2,1,3])\n",
    "    \n",
    "    def __call__(self,q,k,v,mask):\n",
    "        batch=tf.shape(q)[0]\n",
    "        q=self.denseQ(q)\n",
    "        k=self.denseK(k)\n",
    "        v=self.denseV(v)       \n",
    "        q=self.split_heads(q,batch)\n",
    "        k=self.split_heads(k,batch)\n",
    "        v=self.split_heads(v,batch)\n",
    "        out1attn,out2attnwt=attention(q,k,v,mask)\n",
    "        out1attn=tf.transpose(out1attn,perm=[0,2,1,3])\n",
    "        out1attn2=tf.reshape(out1attn,(batch,-1,self.d))\n",
    "        out1attn3=self.denseOUT(out1attn2)\n",
    "        return out1attn3,out2attnwt"
   ]
  },
  {
   "cell_type": "code",
   "execution_count": 19,
   "metadata": {},
   "outputs": [],
   "source": [
    "def feed_forward(d1,d2):\n",
    "    return Sequential([\n",
    "        Dense(d1,activation='relu'),\n",
    "        Dense(d2)\n",
    "    ])"
   ]
  },
  {
   "cell_type": "code",
   "execution_count": 20,
   "metadata": {},
   "outputs": [],
   "source": [
    "class EncoderLayer(tf.keras.layers.Layer):\n",
    "    def __init__(self,num_heads,d,D):\n",
    "        super(EncoderLayer,self).__init__()        \n",
    "        self.mha=multi_head_attention(num_heads,d)\n",
    "        self.ffn=feed_forward(D,d)       \n",
    "        self.norm1=LayerNormalization(epsilon=1e-6)\n",
    "        self.norm2=LayerNormalization(epsilon=1e-6)        \n",
    "        self.drop1=Dropout(0.1)\n",
    "        self.drop2=Dropout(0.1)\n",
    "    \n",
    "    def __call__(self,x,training,mask):\n",
    "        mha,_=self.mha(x,x,x,mask)\n",
    "        mha=self.drop1(mha,training=training)       \n",
    "        tmp1=self.norm1(x+mha)              \n",
    "        tmp2=self.ffn(tmp1)\n",
    "        tmp2=self.drop2(tmp2,training=training)  \n",
    "        tmp3=self.norm2(tmp1+tmp2)\n",
    "        return tmp3"
   ]
  },
  {
   "cell_type": "code",
   "execution_count": 21,
   "metadata": {},
   "outputs": [],
   "source": [
    "class DecoderLayer(tf.keras.layers.Layer):\n",
    "    def __init__(self,num_heads,d,D):\n",
    "        super(DecoderLayer,self).__init__()     \n",
    "        self.mha1=multi_head_attention(num_heads,d)\n",
    "        self.mha2=multi_head_attention(num_heads,d)\n",
    "        self.ffn=feed_forward(D,d)      \n",
    "        self.norm1=LayerNormalization(epsilon=1e-6)\n",
    "        self.norm2=LayerNormalization(epsilon=1e-6)        \n",
    "        self.norm3=LayerNormalization(epsilon=1e-6)       \n",
    "        self.drop1=Dropout(0.1)\n",
    "        self.drop2=Dropout(0.1)\n",
    "        self.drop3=Dropout(0.1)\n",
    "        \n",
    "    def __call__(self, x, encout, training, look_ahead, padding_mask):\n",
    "        mha1,attnwt1=self.mha1(x,x,x,look_ahead)\n",
    "        mha1=self.drop1(mha1,training=training)        \n",
    "        tmp1=self.norm1(x+mha1)       \n",
    "        mha2,attnwt2=self.mha2(tmp1,encout,encout,padding_mask)\n",
    "        mha2=self.drop2(mha2,training=training)        \n",
    "        tmp2=self.norm2(tmp1+mha2)    \n",
    "        tmp3=self.ffn(tmp2)\n",
    "        tmp3=self.drop3(tmp3,training=training)\n",
    "        tmp4=self.norm3(tmp2+tmp3)\n",
    "        return tmp4,attnwt1,attnwt2"
   ]
  },
  {
   "cell_type": "code",
   "execution_count": 22,
   "metadata": {},
   "outputs": [],
   "source": [
    "class Encoder(tf.keras.layers.Layer):\n",
    "    def __init__(self,vocab,d,maxposencsize,num_heads,D,num_layers):\n",
    "        super(Encoder,self).__init__()\n",
    "        self.d=d\n",
    "        self.num_layers=num_layers          \n",
    "        self.emb=Embedding(vocab,d)\n",
    "        self.posenc=pos_enc(maxposencsize,self.d)\n",
    "        self.enclayers=[EncoderLayer(num_heads,d,D) for _ in range(num_layers)]\n",
    "        self.drop=Dropout(0.1)\n",
    "      \n",
    "    def __call__(self,x,training,mask):\n",
    "        tmp=tf.shape(x)[1]\n",
    "        x=self.emb(x)   \n",
    "        x*=tf.math.sqrt(tf.cast(self.d,tf.float32))    \n",
    "        x+=self.posenc[:,:tmp,:]     \n",
    "        x=self.drop(x,training=training)\n",
    "        for i in range(self.num_layers):\n",
    "            x=self.enclayers[i](x,training,mask)\n",
    "        return x"
   ]
  },
  {
   "cell_type": "code",
   "execution_count": 23,
   "metadata": {},
   "outputs": [],
   "source": [
    "class Decoder(tf.keras.layers.Layer):\n",
    "    def __init__(self,vocab,d,maxposencsize,num_heads,D,num_layers):\n",
    "        super(Decoder,self).__init__()\n",
    "        self.d=d\n",
    "        self.num_layers=num_layers              \n",
    "        self.emb=Embedding(vocab,d)    \n",
    "        self.posenc=pos_enc(maxposencsize,d)\n",
    "        self.declayers=[DecoderLayer(num_heads,d,D) for _ in range(num_layers)]\n",
    "        self.drop=Dropout(0.1)\n",
    "       \n",
    "    def __call__(self,x,encout,training,look_ahead, padding_mask):\n",
    "        tmp=tf.shape(x)[1]\n",
    "        attnout={}\n",
    "        x=self.emb(x)    \n",
    "        x*=tf.math.sqrt(tf.cast(self.d,tf.float32))     \n",
    "        x+=self.posenc[:,:tmp,:]       \n",
    "        x=self.drop(x,training=training)\n",
    "        for i in range(self.num_layers):\n",
    "            x,attnwt1,attnwt2=self.declayers[i](x,encout,training,look_ahead, padding_mask)\n",
    "            attnout['decoder_layer{}_block1'.format(i+1)] = attnwt1\n",
    "            attnout['decoder_layer{}_block2'.format(i+1)] = attnwt2\n",
    "        return x,attnout"
   ]
  },
  {
   "cell_type": "code",
   "execution_count": 24,
   "metadata": {},
   "outputs": [],
   "source": [
    "class Transformer(tf.keras.Model):\n",
    "    def __init__(self,vocab,d,maxposencsize,num_heads,D,num_layers):\n",
    "        super(Transformer,self).__init__()\n",
    "        self.encoder=Encoder(vocab,d,maxposencsize,num_heads,D,num_layers)\n",
    "        self.decoder=Decoder(vocab,d,maxposencsize,num_heads,D,num_layers)\n",
    "        self.dense=Dense(vocab)\n",
    "        \n",
    "    def __call__(self,x,y,training,mask,look_ahead, padding_mask):\n",
    "        encoder_call=self.encoder(x,training,mask)\n",
    "        decoder_call,attnwt_call=self.decoder(y,encoder_call,training,look_ahead, padding_mask)\n",
    "        decoder_call=self.dense(decoder_call)\n",
    "        return decoder_call,attnwt_call"
   ]
  },
  {
   "cell_type": "code",
   "execution_count": 25,
   "metadata": {},
   "outputs": [],
   "source": [
    "d=128\n",
    "D=512\n",
    "num_heads=8\n",
    "num_layers=4\n",
    "maxposencsize=VOCAB\n",
    "EPOCH=30"
   ]
  },
  {
   "cell_type": "code",
   "execution_count": 26,
   "metadata": {},
   "outputs": [],
   "source": [
    "class CustomSchedule(tf.keras.optimizers.schedules.LearningRateSchedule):\n",
    "    def __init__(self,d):\n",
    "        super(CustomSchedule,self).__init__()\n",
    "        self.d=d\n",
    "    def __call__(self,step):\n",
    "        arg1=step**-0.5\n",
    "        arg2=step*(4000**-1.5)\n",
    "        lrate=(self.d**-0.5)*tf.math.minimum(arg1,arg2)\n",
    "        return lrate"
   ]
  },
  {
   "cell_type": "code",
   "execution_count": 27,
   "metadata": {},
   "outputs": [
    {
     "data": {
      "image/png": "[encoded data removed]",
      "text/plain": [
       "<Figure size 432x288 with 1 Axes>"
      ]
     },
     "metadata": {
      "needs_background": "light"
     },
     "output_type": "display_data"
    }
   ],
   "source": [
    "lrate=CustomSchedule(d)\n",
    "optimizer=tf.keras.optimizers.Adam(lrate,beta_1=0.9,beta_2=0.98,epsilon=1e-9)\n",
    "\n",
    "plt.plot(lrate(tf.range(40000, dtype=tf.float32)))\n",
    "plt.show()"
   ]
  },
  {
   "cell_type": "code",
   "execution_count": 28,
   "metadata": {},
   "outputs": [],
   "source": [
    "loss_object = tf.keras.losses.SparseCategoricalCrossentropy(from_logits=True, reduction='none')\n",
    "def loss_function(real, pred):\n",
    "    mask = tf.math.logical_not(tf.math.equal(real, 0))\n",
    "    loss_ = loss_object(real, pred)\n",
    "    mask = tf.cast(mask, dtype=loss_.dtype)\n",
    "    loss_ *= mask\n",
    "    return tf.reduce_sum(loss_)/tf.reduce_sum(mask)\n",
    "train_loss = tf.keras.metrics.Mean(name='train_loss')"
   ]
  },
  {
   "cell_type": "code",
   "execution_count": 29,
   "metadata": {},
   "outputs": [],
   "source": [
    "def create_masks(x,y):\n",
    "    tmp1=padding_mask(x)\n",
    "    tmp2=padding_mask(x)    \n",
    "    tmp3=look_ahead(tf.shape(y)[1])\n",
    "    tmp4=padding_mask(y)\n",
    "    tmp5=tf.maximum(tmp3,tmp4)     \n",
    "    return tmp1,tmp5,tmp2"
   ]
  },
  {
   "cell_type": "code",
   "execution_count": 30,
   "metadata": {},
   "outputs": [],
   "source": [
    "transformer = Transformer(VOCAB,d,maxposencsize,num_heads,D,num_layers)"
   ]
  },
  {
   "cell_type": "code",
   "execution_count": 40,
   "metadata": {},
   "outputs": [],
   "source": [
    "checkpoint_path = CHECKPOINT_PATH\n",
    "ckpt = tf.train.Checkpoint(transformer=transformer,\n",
    "                           optimizer=optimizer)\n",
    "ckpt_manager = tf.train.CheckpointManager(ckpt, checkpoint_path, max_to_keep=3)"
   ]
  },
  {
   "cell_type": "code",
   "execution_count": 32,
   "metadata": {},
   "outputs": [],
   "source": [
    "train_step_signature = [\n",
    "    tf.TensorSpec(shape=(None, None), dtype=tf.int64),\n",
    "    tf.TensorSpec(shape=(None, None), dtype=tf.int64),\n",
    "]\n",
    "\n",
    "@tf.function(input_signature=train_step_signature)\n",
    "def training(x,y):\n",
    "    y_inp=y[:,:-1]\n",
    "    y_real=y[:,1:]   \n",
    "    mask,look_ahead, padding_mask=create_masks(x,y_inp)                                            \n",
    "    with tf.GradientTape() as tape:         \n",
    "        pred,_=transformer(x, y_inp, True, mask, look_ahead, padding_mask)\n",
    "        loss=loss_function(y_real,pred)              \n",
    "    variables=transformer.trainable_variables\n",
    "    gradients=tape.gradient(loss, variables) \n",
    "    optimizer.apply_gradients(zip(gradients, variables))\n",
    "    train_loss(loss)"
   ]
  },
  {
   "cell_type": "code",
   "execution_count": 33,
   "metadata": {},
   "outputs": [],
   "source": [
    "#ckpt.restore(ckpt_manager.latest_checkpoint)"
   ]
  },
  {
   "cell_type": "code",
   "execution_count": 69,
   "metadata": {},
   "outputs": [
    {
     "name": "stdout",
     "output_type": "stream",
     "text": [
      "Starting epoch 1\n",
      "loss = 1.5049\ttime taken = 43.28 secs\n",
      "Starting epoch 2\n",
      "loss = 1.4675\ttime taken = 43.61 secs\n",
      "Starting epoch 3\n",
      "loss = 1.4340\ttime taken = 43.34 secs\n",
      "Starting epoch 4\n",
      "loss = 1.3958\ttime taken = 43.60 secs\n",
      "Starting epoch 5\n",
      "loss = 1.3678\ttime taken = 43.76 secs\n"
     ]
    }
   ],
   "source": [
    "import time\n",
    "for epoch in range(EPOCH): \n",
    "    start_time=time.time()     \n",
    "    train_loss.reset_states()   \n",
    "    print(\"Starting epoch {}\".format(epoch+1))       \n",
    "    for x_batch,y_batch in dataset:\n",
    "        training(x_batch, y_batch)       \n",
    "    end_time=time.time()\n",
    "    print('loss = {:.4f}\\ttime taken = {:.2f} secs'.format(train_loss.result(),end_time-start_time))      \n",
    "    if (epoch + 1) % 5 == 0:\n",
    "        ckpt_save_path = ckpt_manager.save()"
   ]
  },
  {
   "cell_type": "markdown",
   "metadata": {},
   "source": [
    "# <font color=red>TESTING</font>"
   ]
  },
  {
   "cell_type": "code",
   "execution_count": 66,
   "metadata": {},
   "outputs": [],
   "source": [
    "def evaluate(text,plot=False):   \n",
    " \n",
    "    text=tokenizerE.texts_to_sequences(text)\n",
    "    text=np.array(text).astype('int64')\n",
    "    text=pad_sequences(text,maxlen=MAX_WORDS,truncating='post',padding='post',dtype='int64')\n",
    "\n",
    "    decinp=[tokenizerH.word_index['<start>']]\n",
    "    decinp=tf.expand_dims(decinp,0)\n",
    "    for i in range (MAX_WORDS):\n",
    "        m1,m2,m3=create_masks(text,decinp)\n",
    "        p,a=transformer(text,decinp,False,m1,m2,m3)\n",
    "        p=p[: ,-1:, :] \n",
    "        predicted_id = tf.cast(tf.argmax(p, axis=-1), tf.int32)\n",
    "        decinp=tf.concat([decinp,predicted_id],axis=-1)\n",
    "\n",
    "    ans=sentence(decinp.numpy()[0])\n",
    "     \n",
    "    if plot==True:\n",
    "        att=[a['decoder_layer4_block2'].numpy()[0,i] for i in range(num_heads)]\n",
    "        for j in range (num_heads):\n",
    "            plt.matshow(att[j])\n",
    "            plt.show()\n",
    "            \n",
    "    print(\"Translated Sentence: \",ans)"
   ]
  },
  {
   "cell_type": "code",
   "execution_count": 67,
   "metadata": {},
   "outputs": [],
   "source": [
    "def sentence(x):\n",
    "    ans=''\n",
    "    for w in x:\n",
    "        ans+=rev_hin_dict[w]+' '\n",
    "        if w == tokenizerH.word_index['<end>']:\n",
    "            return ans\n",
    "    return ans"
   ]
  },
  {
   "cell_type": "code",
   "execution_count": 93,
   "metadata": {},
   "outputs": [
    {
     "data": {
      "image/png": "[encoded data removed]",
      "text/plain": [
       "<Figure size 288x288 with 1 Axes>"
      ]
     },
     "metadata": {
      "needs_background": "light"
     },
     "output_type": "display_data"
    },
    {
     "data": {
      "image/png": "[encoded data removed]",
      "text/plain": [
       "<Figure size 288x288 with 1 Axes>"
      ]
     },
     "metadata": {
      "needs_background": "light"
     },
     "output_type": "display_data"
    },
    {
     "data": {
      "image/png": "[encoded data removed]",
      "text/plain": [
       "<Figure size 288x288 with 1 Axes>"
      ]
     },
     "metadata": {
      "needs_background": "light"
     },
     "output_type": "display_data"
    },
    {
     "data": {
      "image/png": "[encoded data removed]",
      "text/plain": [
       "<Figure size 288x288 with 1 Axes>"
      ]
     },
     "metadata": {
      "needs_background": "light"
     },
     "output_type": "display_data"
    },
    {
     "data": {
      "image/png": "[encoded data removed]",
      "text/plain": [
       "<Figure size 288x288 with 1 Axes>"
      ]
     },
     "metadata": {
      "needs_background": "light"
     },
     "output_type": "display_data"
    },
    {
     "data": {
      "image/png": "[encoded data removed]",
      "text/plain": [
       "<Figure size 288x288 with 1 Axes>"
      ]
     },
     "metadata": {
      "needs_background": "light"
     },
     "output_type": "display_data"
    },
    {
     "data": {
      "image/png": "[encoded data removed]",
      "text/plain": [
       "<Figure size 288x288 with 1 Axes>"
      ]
     },
     "metadata": {
      "needs_background": "light"
     },
     "output_type": "display_data"
    },
    {
     "data": {
      "image/png": "[encoded data removed]",
      "text/plain": [
       "<Figure size 288x288 with 1 Axes>"
      ]
     },
     "metadata": {
      "needs_background": "light"
     },
     "output_type": "display_data"
    },
    {
     "name": "stdout",
     "output_type": "stream",
     "text": [
      "Translated Sentence:  <start> मुझे लगता है आप इसे देख सकते हैं <end>\n"
     ]
    }
   ],
   "source": [
    "text=\"I think you should see this too\"\n",
    "evaluate([text],plot=True)"
   ]
  },
  {
   "cell_type": "code",
   "execution_count": null,
   "metadata": {},
   "outputs": [],
   "source": []
  }
 ],
 "metadata": {
  "kernelspec": {
   "display_name": "Python 3",
   "language": "python",
   "name": "python3"
  },
  "language_info": {
   "codemirror_mode": {
    "name": "ipython",
    "version": 3
   },
   "file_extension": ".py",
   "mimetype": "text/x-python",
   "name": "python",
   "nbconvert_exporter": "python",
   "pygments_lexer": "ipython3",
   "version": "3.7.6"
  }
 },
 "nbformat": 4,
 "nbformat_minor": 4
}
